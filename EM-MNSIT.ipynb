{
 "cells": [
  {
   "cell_type": "markdown",
   "metadata": {},
   "source": [
    "Part 2 Question 1\n",
    "Group Id: ViDiSh \n",
    "Group Members : Divya Mishra, Shreyansh Aswal, Vipin Gautam"
   ]
  },
  {
   "cell_type": "code",
   "execution_count": 129,
   "metadata": {},
   "outputs": [],
   "source": [
    "import numpy as np\n",
    "import pandas as pd\n",
    "import math\n",
    "import random\n",
    "import matplotlib.pyplot as plt"
   ]
  },
  {
   "cell_type": "code",
   "execution_count": 130,
   "metadata": {},
   "outputs": [],
   "source": [
    "Y_total=3\n",
    "D_total=784\n",
    "filename=\"C:\\\\Users\\\\user\\\\Desktop\\\\Book2.csv\"\n",
    "Y=[]\n",
    "X=[]"
   ]
  },
  {
   "cell_type": "code",
   "execution_count": 131,
   "metadata": {},
   "outputs": [],
   "source": [
    "def load_csv_file():\n",
    "    df=pd.read_csv(filename)\n",
    "    for index,row in df.iterrows():\n",
    "        Y.append(row[784])\n",
    "        X.append(row[0:784])"
   ]
  },
  {
   "cell_type": "code",
   "execution_count": 132,
   "metadata": {},
   "outputs": [],
   "source": [
    "def convert_pixels():\n",
    "    for i in range(len(X)):\n",
    "        for j in range(D_total):\n",
    "            #Classifying each pixel as either 0 or 1 depending on the condition below\n",
    "            if X[i][j]>127 and X[i][j]<=255:\n",
    "                X[i][j]=1\n",
    "            else:\n",
    "                X[i][j]=0"
   ]
  },
  {
   "cell_type": "code",
   "execution_count": 133,
   "metadata": {},
   "outputs": [
    {
     "name": "stdout",
     "output_type": "stream",
     "text": [
      "[0.33048743 0.33133472 0.33817784]\n",
      "[0.3957658  0.44759071 0.1566435 ]\n",
      "[0.39198895 0.35405692 0.25395413]\n",
      "[0.3445612  0.38780258 0.26763622]\n",
      "[0.29842252 0.40489817 0.29667931]\n",
      "[0.27572523 0.41605416 0.3082206 ]\n",
      "[0.26270122 0.41872219 0.31857659]\n",
      "[0.26154372 0.41387995 0.32457633]\n",
      "[0.26469521 0.40794535 0.32735943]\n",
      "[0.27189883 0.39982129 0.32827988]\n",
      "[0.27717924 0.39175345 0.33106731]\n",
      "[0.28557949 0.38052835 0.33389216]\n",
      "[0.28884464 0.37621849 0.33493686]\n",
      "[0.29238736 0.37149881 0.33611383]\n",
      "[0.29428476 0.36951327 0.33620197]\n",
      "[0.29519084 0.36860025 0.33620891]\n",
      "[0.29392602 0.36843569 0.33763829]\n",
      "[0.29377894 0.36856755 0.33765351]\n",
      "[0.2936676  0.36867813 0.33765428]\n",
      "[0.2950179 0.3673216 0.3376605]\n",
      "[0.29778595 0.36319698 0.33901707]\n",
      "[0.29793378 0.36290855 0.33915767]\n",
      "[0.29811164 0.36271467 0.3391737 ]\n",
      "[0.29876    0.36205928 0.33918072]\n",
      "[0.30069364 0.36011421 0.33919215]\n",
      "[0.29997786 0.36082101 0.33920113]\n",
      "[0.2991499  0.36165354 0.33919656]\n",
      "[0.29904776 0.36149287 0.33945937]\n",
      "[0.29803006 0.3613267  0.34064324]\n",
      "[0.29831725 0.36099193 0.34069082]\n",
      "[0.29871588 0.36056133 0.34072279]\n"
     ]
    },
    {
     "data": {
      "text/plain": [
       "<matplotlib.image.AxesImage at 0x1fdd4062c70>"
      ]
     },
     "execution_count": 133,
     "metadata": {},
     "output_type": "execute_result"
    },
    {
     "data": {
      "image/png": "[encoded data removed]",
      "text/plain": [
       "<Figure size 432x288 with 1 Axes>"
      ]
     },
     "metadata": {
      "needs_background": "light"
     },
     "output_type": "display_data"
    }
   ],
   "source": [
    "load_csv_file()\n",
    "convert_pixels()\n",
    "X=np.array(X)\n",
    "\n",
    "# pie is a K sized vector, where K=number of labels(here 3)\n",
    "pie=np.random.uniform(.30,.50,Y_total)\n",
    "pie=pie/(np.sum(pie))\n",
    "\n",
    "#p_i is a K*D array, where K=number of labels and D=number of features in an image(here 784)\n",
    "p_i=np.zeros(Y_total*D_total).reshape(Y_total,D_total)\n",
    "print(pie)\n",
    "\n",
    "#randomly initializing p_i\n",
    "for i in range(Y_total):\n",
    "    for j in range(D_total):\n",
    "        p_i[i][j]=np.random.uniform(0.25,0.70)\n",
    "\n",
    "number_of_iterations=30\n",
    "for l in range(number_of_iterations):\n",
    "    \n",
    "    #E step  \n",
    "    # gamma_i is the responsiblilty matrix, of dimensions N*K(N is the number of images)\n",
    "    gamma_i=np.ones(Y_total*len(X)).reshape(len(X),Y_total)\n",
    "    for i in range(len(X)):\n",
    "        for k in range(Y_total):\n",
    "            for j in range(D_total):\n",
    "                gamma_i[i][k]*=(p_i[k][j]**X[i][j])*((1-p_i[k][j])**(1-X[i][j]))\n",
    "    \n",
    "    gamma_i = gamma_i*pie\n",
    "   \n",
    "    for i in range(len(gamma_i)):\n",
    "        gamma_i[i]/=np.sum(gamma_i[i])\n",
    "\n",
    "    #M step\n",
    "    p_i=np.zeros(Y_total*D_total).reshape(Y_total,D_total)\n",
    "    for i in range(len(X)):\n",
    "        for k in range(Y_total):\n",
    "            p_i[k]+=X[i]*gamma_i[i][k]\n",
    "\n",
    "    gamma_i_sum = np.sum(gamma_i, axis=0)\n",
    "\n",
    "    for k in range(Y_total):\n",
    "        p_i[k]/=gamma_i_sum[k]\n",
    "    \n",
    "    pie=gamma_i_sum/len(X)\n",
    "    #Here we are printing the updated value of the prior array at each iteration to visualize how it converges to a value\n",
    "    print(pie)\n",
    "\n",
    "img_4=np.zeros(D_total)\n",
    "\n",
    "for i in range(len(p_i[2])):\n",
    "    #Assigning pixel values based on the mean of each feature calculated for the label 4\n",
    "    if np.random.uniform() <=p_i[2][i]:\n",
    "        img_4[i]=1\n",
    "    else:\n",
    "        img_4[i]=0\n",
    "\n",
    "img_4=img_4.reshape(28,28)\n",
    "plt.imshow(img_4, cmap=\"gray\")   "
   ]
  },
  {
   "cell_type": "markdown",
   "metadata": {},
   "source": [
    "Here we have displayed the digit 4 using the array p_i which basically gives the average bias of each of the 784 features for the label 4. Similarly, plots for labels 2 and 3 can also be obtained. As we can see, the label is estimated fairly well."
   ]
  },
  {
   "cell_type": "code",
   "execution_count": 134,
   "metadata": {},
   "outputs": [
    {
     "name": "stdout",
     "output_type": "stream",
     "text": [
      "0.8285714285714286\n"
     ]
    }
   ],
   "source": [
    "count=0\n",
    "'''To calculate accuracy,we can directly use the responsibility matrix gamma_i as each entry represents the probability\n",
    "of a point belonging to either of the 3 clusters. If we had more number of labels, we could have used an array f\n",
    "of size=number of features. However, for 3 labels, the below code looks more intuitive as clear comaprisons are being made between 3 values'''\n",
    "for i in range(len(X)):\n",
    "    f2=gamma_i[i][0]\n",
    "    f3=gamma_i[i][1]\n",
    "    f4=gamma_i[i][2]\n",
    "    if f2>f3:\n",
    "        if f2>f4:\n",
    "            Y_predicted=2\n",
    "        else:\n",
    "            Y_predicted=4\n",
    "    else:\n",
    "        if f3>f4:\n",
    "            Y_predicted=3\n",
    "        else:\n",
    "            Y_predicted=4\n",
    "    #List Y consists of the actual labels\n",
    "    if Y_predicted==Y[i]:\n",
    "        count+=1\n",
    "#Accuracy is the number of correct predictions divided by the number of total predictions\n",
    "print(count/len(X))"
   ]
  },
  {
   "cell_type": "markdown",
   "metadata": {},
   "source": [
    "Thus, the accuracy after 30 iterations was nearly 82 percent. However, this varied depending on the initial value of p_i array, which gets initialized randomly in the beginning."
   ]
  }
 ],
 "metadata": {
  "interpreter": {
   "hash": "b3ba2566441a7c06988d0923437866b63cedc61552a5af99d1f4fb67d367b25f"
  },
  "kernelspec": {
   "display_name": "Python 3.9.7 ('base')",
   "language": "python",
   "name": "python3"
  },
  "language_info": {
   "codemirror_mode": {
    "name": "ipython",
    "version": 3
   },
   "file_extension": ".py",
   "mimetype": "text/x-python",
   "name": "python",
   "nbconvert_exporter": "python",
   "pygments_lexer": "ipython3",
   "version": "3.9.7"
  },
  "orig_nbformat": 4
 },
 "nbformat": 4,
 "nbformat_minor": 2
}
